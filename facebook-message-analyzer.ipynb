{
 "cells": [
  {
   "cell_type": "markdown",
   "metadata": {},
   "source": [
    "# Facebook Message Analyzer"
   ]
  },
  {
   "cell_type": "markdown",
   "metadata": {},
   "source": [
    "<b> Current Features For a Given Chat: </b>\n",
    "<ul> \n",
    "    <li> Number of Messages Sent </li> \n",
    "    <li> Messages Sent Over Time </li> \n",
    "    <li> Average Word Count </li>\n",
    "</ul>"
   ]
  },
  {
   "cell_type": "code",
   "execution_count": 34,
   "metadata": {},
   "outputs": [],
   "source": [
    "import os\n",
    "import json\n",
    "import numpy as np\n",
    "import pylab as pl\n",
    "import datetime\n",
    "\n",
    "CURRENT_DIRECTORY = os.getcwd()\n",
    "NUMBER_TO_ANALYZE = 5000\n",
    "MESSAGE_THRESHOLD = 10\n",
    "MESSAGE_BOUND = 1000"
   ]
  },
  {
   "cell_type": "code",
   "execution_count": 35,
   "metadata": {},
   "outputs": [],
   "source": [
    "def get_json_data(chat):\n",
    "    try:\n",
    "        json_location = CURRENT_DIRECTORY + \"/messages/\" + chat + \"/message.json\"\n",
    "        with open(json_location) as json_file:\n",
    "            json_data = json.load(json_file)\n",
    "            return json_data\n",
    "    except IOError:\n",
    "        pass # some things the directory aren't messages (DS_Store, stickers_used, etc.)"
   ]
  },
  {
   "cell_type": "code",
   "execution_count": 36,
   "metadata": {},
   "outputs": [],
   "source": [
    "chats = os.listdir(CURRENT_DIRECTORY + \"/messages/\")[:NUMBER_TO_ANALYZE]\n",
    "sorted_chats = []\n",
    "final_data_messages = {}\n",
    "final_data_times = {}\n",
    "final_data_words = {}\n",
    "invalid_message_count = 0"
   ]
  },
  {
   "cell_type": "code",
   "execution_count": 37,
   "metadata": {
    "scrolled": true
   },
   "outputs": [
    {
     "name": "stdout",
     "output_type": "stream",
     "text": [
      "Analyzing 7 chats...\n",
      ".DS_Store\n",
      "kevindillon_f6193ac9b8\n",
      "Catappreciationchat_89e0d454d9\n",
      "kaialangathianos_95580a3269\n",
      "adamdonnelly_8f40ea0790\n",
      "Indoorsoccer_ea14b34757\n",
      "michaelwernig_1089dcbaf3\n",
      "Finished processing chats...\n"
     ]
    }
   ],
   "source": [
    "print('Analyzing ' + str(min(NUMBER_TO_ANALYZE, len(chats))) + ' chats...')\n",
    "\n",
    "for chat in chats:\n",
    "    url = chat + '/message.json'\n",
    "    json_data = get_json_data(chat)\n",
    "    print(chat)\n",
    "    if json_data != None:\n",
    "        messages = json_data[\"messages\"]\n",
    "        if len(messages) >= MESSAGE_THRESHOLD and len(messages) <= MESSAGE_BOUND:\n",
    "            sorted_chats.append((len(messages), chat, messages))\n",
    "\n",
    "sorted_chats.sort(reverse=True)\n",
    "\n",
    "print('Finished processing chats...')"
   ]
  },
  {
   "cell_type": "code",
   "execution_count": 38,
   "metadata": {},
   "outputs": [
    {
     "name": "stdout",
     "output_type": "stream",
     "text": [
      "0 - 497 messages - Indoorsoccer_ea14b34757\n",
      "1 - 121 messages - michaelwernig_1089dcbaf3\n",
      "2 - 108 messages - kaialangathianos_95580a3269\n",
      "3 - 53 messages - adamdonnelly_8f40ea0790\n",
      "Found 1 invalid messages...\n",
      "Found 4 chats with 10 messages or more\n"
     ]
    }
   ],
   "source": [
    "emo_array = []\n",
    "names = []\n",
    "time_array = []\n",
    "number_gaps = 0\n",
    "# iterates through folders\n",
    "for i, (messages, chat, messages) in enumerate(sorted_chats):\n",
    "    number_messages = {}\n",
    "    person_to_times = {}\n",
    "    number_words = {}\n",
    "\n",
    "    print(str(i) + \" - \" + str(len(messages)) + \" messages - \" + str(chat))\n",
    "    \n",
    "    names.append(str(chat))\n",
    "    bang_count = 0.0\n",
    "    cap_count = 0.0\n",
    "    character_count = 0.0\n",
    "    bang_index = 0.0\n",
    "    cap_index = 0.0\n",
    "    emo_index = 0.0\n",
    "    \n",
    "    person_times = []\n",
    "    # iterates through individual messages within each file\n",
    "    for message in messages:\n",
    "        try:\n",
    "            name = message[\"sender_name\"]\n",
    "            time = message[\"timestamp_ms\"]\n",
    "            message_content = message[\"content\"]\n",
    "\n",
    "            number_messages[name] = number_messages.get(name, 0)\n",
    "            number_messages[name] += 1\n",
    "            new_time = time\n",
    "            \n",
    "            person_times.append(new_time)\n",
    "            \n",
    "            # counts the number of bangs and capitalizations\n",
    "            count = 0\n",
    "            while count < len(message_content) - 1:\n",
    "                if message_content[count] == '!':\n",
    "                    bang_count += 1\n",
    "                elif message_content[count].isupper():\n",
    "                    cap_count += 1\n",
    "                count += 1\n",
    "                character_count += 1\n",
    "                \n",
    "            person_to_times[name] = person_to_times.get(name, [])\n",
    "            person_to_times[name].append(datetime.datetime.fromtimestamp(time/1000.0))\n",
    "\n",
    "            number_words[name] = number_words.get(name, [])\n",
    "            number_words[name].append(len(message_content.split()))\n",
    "        except KeyError:\n",
    "            # happens for special cases like users who deactivated, unfriended, blocked\n",
    "            invalid_message_count += 1\n",
    "            \n",
    "    counter = 0\n",
    "    gap_time = 0\n",
    "    # takes the average amount of time between messages in miliseconds\n",
    "    # then appends that average to an array with each index representing a person\n",
    "    for i in range(1, len(person_times)):\n",
    "        gap_time += person_times[i] - person_times[i - 1]\n",
    "        counter += 1\n",
    "    gap_time = gap_time / counter\n",
    "    time_array.append(abs(gap_time) * 0.001 / 84000)\n",
    "    \n",
    "    # creates the emotional index by taking the amount of capitalizations\n",
    "    # and bangs used per character for each person\n",
    "    bang_index = bang_count / character_count\n",
    "    cap_index = cap_count / character_count\n",
    "    emo_index = (cap_index + bang_index) * 1000\n",
    "    emo_index_int = 0\n",
    "    emo_index_int = round(emo_index)\n",
    "    int(emo_index_int)\n",
    "    emo_array.append(emo_index_int)\n",
    "\n",
    "    final_data_messages[i] = number_messages\n",
    "    final_data_times[i] = person_to_times\n",
    "    final_data_words[i] = number_words\n",
    "\n",
    "print('Found ' + str(invalid_message_count) + ' invalid messages...')\n",
    "print('Found ' + str(len(sorted_chats)) + ' chats with ' + str(MESSAGE_THRESHOLD) + ' messages or more')"
   ]
  },
  {
   "cell_type": "code",
   "execution_count": null,
   "metadata": {},
   "outputs": [],
   "source": []
  },
  {
   "cell_type": "code",
   "execution_count": 39,
   "metadata": {},
   "outputs": [],
   "source": [
    "def plot_num_messages(chat_number):\n",
    "    plotted_data = final_data_messages[chat_number]\n",
    "    X = np.arange(len(plotted_data))\n",
    "    pl.bar(X, list(plotted_data.values()), align='center', width=0.5, color = 'r', bottom = 0.3)\n",
    "    pl.xticks(X, plotted_data.keys(), rotation = 90)\n",
    "    pl.title('Number of Messages Sent')\n",
    "    pl.tight_layout()\n",
    "    pl.show()\n",
    "    \n",
    "def plot_histogram_time(chat_number):\n",
    "    person_to_times = final_data_times[chat_number]\n",
    "    pl.xlabel('Time')\n",
    "    pl.ylabel('Number of Messages')\n",
    "    pl.title('# of Messages Over Time')\n",
    "    colors = ['b', 'r', 'c', 'm', 'y', 'k', 'w', 'g']\n",
    "    for i , person in enumerate(person_to_times):\n",
    "        plotted_data = person_to_times[person]\n",
    "        pl.hist(plotted_data, 100, alpha=0.3, label=person, facecolor=colors[i % len(colors)])\n",
    "    pl.legend()\n",
    "    pl.xticks(rotation=90)\n",
    "    pl.tight_layout()\n",
    "    pl.show()\n",
    "    \n",
    "def plot_emo_index(chat_number):\n",
    "    left = np.arange(len(names))\n",
    "    pl.bar(left, emo_array)\n",
    "    pl.xlabel('Names', fontsize=5)\n",
    "    pl.ylabel('AEI (Arbitrary Emotional Index', fontsize=5)\n",
    "    pl.xticks(left, names, fontsize=5, rotation=30)\n",
    "    pl.title('How emotional conversations are with certain people')\n",
    "    pl.show()\n",
    "    \n",
    "def plot_time_array(chat_number):\n",
    "    left = np.arange(len(names))\n",
    "    pl.bar(left, time_array)\n",
    "    pl.xlabel('Names', fontsize=10)\n",
    "    pl.ylabel('Average Amount of Days You Take to Respond to Each Person', fontsize=10)\n",
    "    pl.xticks(left, names, fontsize=10, rotation=30)\n",
    "    pl.title('Time to Respond')\n",
    "    pl.show()\n",
    "    \n",
    "def plot_histogram_words(chat_number):\n",
    "    temp = {}\n",
    "    for person in final_data_words[chat_number]:\n",
    "        temp[person] = np.average(final_data_words[chat_number][person])\n",
    "    plotted_data = temp\n",
    "    X = np.arange(len(plotted_data))\n",
    "    pl.bar(X, list(plotted_data.values()), align='center', width=0.5, color = 'r', bottom = 0.3)\n",
    "    pl.xticks(X, plotted_data.keys(), rotation = 90)\n",
    "    pl.title('Average Word Count')\n",
    "    pl.tight_layout()\n",
    "    pl.show()\n",
    "    \n",
    "def plot(chat_number):\n",
    "    plot_num_messages(chat_number)\n",
    "    plot_histogram_time(chat_number)\n",
    "    plot_histogram_words(chat_number)"
   ]
  },
  {
   "cell_type": "code",
   "execution_count": 40,
   "metadata": {
    "scrolled": true
   },
   "outputs": [
    {
     "data": {
      "image/png": "[encoded data removed]",
      "text/plain": [
       "<Figure size 432x288 with 1 Axes>"
      ]
     },
     "metadata": {
      "needs_background": "light"
     },
     "output_type": "display_data"
    },
    {
     "data": {
      "image/png": "[encoded data removed]",
      "text/plain": [
       "<Figure size 432x288 with 1 Axes>"
      ]
     },
     "metadata": {
      "needs_background": "light"
     },
     "output_type": "display_data"
    }
   ],
   "source": [
    "plot_time_array(0)\n",
    "plot_emo_index(0)"
   ]
  },
  {
   "cell_type": "code",
   "execution_count": null,
   "metadata": {},
   "outputs": [],
   "source": []
  },
  {
   "cell_type": "code",
   "execution_count": null,
   "metadata": {},
   "outputs": [],
   "source": []
  },
  {
   "cell_type": "code",
   "execution_count": null,
   "metadata": {},
   "outputs": [],
   "source": []
  }
 ],
 "metadata": {
  "kernelspec": {
   "display_name": "Python 2",
   "language": "python",
   "name": "python2"
  },
  "language_info": {
   "codemirror_mode": {
    "name": "ipython",
    "version": 2
   },
   "file_extension": ".py",
   "mimetype": "text/x-python",
   "name": "python",
   "nbconvert_exporter": "python",
   "pygments_lexer": "ipython2",
   "version": "2.7.16"
  }
 },
 "nbformat": 4,
 "nbformat_minor": 2
}
